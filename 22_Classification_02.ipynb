{
  "nbformat": 4,
  "nbformat_minor": 0,
  "metadata": {
    "kernelspec": {
      "display_name": "Python 3",
      "language": "python",
      "name": "python3"
    },
    "language_info": {
      "codemirror_mode": {
        "name": "ipython",
        "version": 3
      },
      "file_extension": ".py",
      "mimetype": "text/x-python",
      "name": "python",
      "nbconvert_exporter": "python",
      "pygments_lexer": "ipython3",
      "version": "3.6.4"
    },
    "colab": {
      "name": "22.Classification #02.ipynb",
      "provenance": [],
      "include_colab_link": true
    }
  },
  "cells": [
    {
      "cell_type": "markdown",
      "metadata": {
        "id": "view-in-github",
        "colab_type": "text"
      },
      "source": [
        "<a href=\"https://colab.research.google.com/github/brew-brew-com/ML-Prep/blob/main/22_Classification_02.ipynb\" target=\"_parent\"><img src=\"https://colab.research.google.com/assets/colab-badge.svg\" alt=\"Open In Colab\"/></a>"
      ]
    },
    {
      "cell_type": "markdown",
      "metadata": {
        "id": "IATihnvZUw-z"
      },
      "source": [
        "<h1>K近傍法（K-Nearest Meighbor）とロジスティック回帰（Logistic Regression）の比較</h1>"
      ]
    },
    {
      "cell_type": "code",
      "metadata": {
        "id": "eR-QlcoeUw-3"
      },
      "source": [
        "import pandas as pd\n",
        "from sklearn.datasets import load_breast_cancer\n",
        "from sklearn.model_selection import train_test_split\n",
        "from sklearn.pipeline import Pipeline\n",
        "from sklearn.preprocessing import StandardScaler\n",
        "from sklearn.neighbors import KNeighborsClassifier\n",
        "from sklearn.linear_model import LogisticRegression\n",
        "from sklearn.metrics import accuracy_score"
      ],
      "execution_count": null,
      "outputs": []
    },
    {
      "cell_type": "code",
      "metadata": {
        "colab": {
          "base_uri": "https://localhost:8080/"
        },
        "id": "2bF57DVnUw-8",
        "outputId": "73bb962a-d68c-4fc0-84c9-dde5ba3637ce"
      },
      "source": [
        "breast_cancer = load_breast_cancer()\n",
        "\n",
        "X = breast_cancer.data\n",
        "y = breast_cancer.target\n",
        "\n",
        "X_train, X_test, y_train, y_test = train_test_split(X, y, test_size=0.20)\n",
        "\n",
        "pipe_knn_5 = Pipeline([('scl', StandardScaler()), ('est', KNeighborsClassifier())]) #Default n_neighbors=50\n",
        "pipe_knn_50 = Pipeline([('scl', StandardScaler()), ('est', KNeighborsClassifier(n_neighbors=50))])\n",
        "pipe_logistic = Pipeline([('scl',StandardScaler()), ('est',LogisticRegression(random_state=1))])\n",
        "\n",
        "pipe_knn_5.fit(X_train, y_train)\n",
        "pipe_knn_50.fit(X_train, y_train)\n",
        "pipe_logistic.fit(X_train, y_train)\n",
        "\n",
        "# accuracy_scoreは第一引数に正解ラベル、第二引数に予測ラベル（確率ではない）を指定。\n",
        "\n",
        "print('KNN(5)_Train:%.3f'% accuracy_score(y_train, pipe_knn_5.predict(X_train)))\n",
        "print('KNN(5)_Test:%.3f' % accuracy_score(y_test, pipe_knn_5.predict(X_test)))\n",
        "print('KNN(50)_Train:%.3f'% accuracy_score(y_train, pipe_knn_50.predict(X_train)))\n",
        "print('KNN(50)_Test:%.3f' % accuracy_score(y_test, pipe_knn_50.predict(X_test)))\n",
        "print('Logistic_Train:%.3f'% accuracy_score(y_train, pipe_logistic.predict(X_train)))\n",
        "print('Logistic_Test:%.3f' % accuracy_score(y_test, pipe_logistic.predict(X_test)))\n",
        "\n",
        "# 以下、accuracy_scoreと同じ\n",
        "# print('%.3f'% pipe_knn_5.score(X_train, y_train)) \n",
        "# print('%.3f'% pipe_knn_5.score(X_test, y_test)) \n",
        "# print('%.3f'% pipe_knn_50.score(X_train, y_train)) \n",
        "# print('%.3f'% pipe_knn_50.score(X_test, y_test)) \n",
        "# print('%.3f'% pipe_logistic.score(X_train, y_train)) \n",
        "# print('%.3f'% pipe_logistic.score(X_test, y_test)) "
      ],
      "execution_count": null,
      "outputs": [
        {
          "output_type": "stream",
          "text": [
            "KNN(5)_Train:0.980\n",
            "KNN(5)_Test:0.939\n",
            "KNN(50)_Train:0.956\n",
            "KNN(50)_Test:0.921\n",
            "Logistic_Train:0.993\n",
            "Logistic_Test:0.947\n"
          ],
          "name": "stdout"
        }
      ]
    },
    {
      "cell_type": "markdown",
      "metadata": {
        "id": "QiAYsrAxUw-_"
      },
      "source": [
        "KNNのkを5から50に増やしたら汎化性能が低下。多くのデータを見過ぎて平均値予測に近くなった。予測値が無難過ぎてTrainスコアとTestスコアが近いのも特徴。"
      ]
    },
    {
      "cell_type": "markdown",
      "metadata": {
        "id": "toDCsn2KUw_A"
      },
      "source": [
        "以下、おまけ（predictとpredict_proba）"
      ]
    },
    {
      "cell_type": "code",
      "metadata": {
        "colab": {
          "base_uri": "https://localhost:8080/"
        },
        "id": "acQ-dsjNUw_A",
        "outputId": "45351503-0ae3-4037-cfc6-87e18c42f3b3"
      },
      "source": [
        "# predictは0,1の「予測ラベル」\n",
        "\n",
        "print(pipe_knn_5.predict(X_train)[:30])\n",
        "print(pipe_knn_50.predict(X_train)[:30])\n",
        "print(pipe_logistic.predict(X_train)[:30])"
      ],
      "execution_count": null,
      "outputs": [
        {
          "output_type": "stream",
          "text": [
            "[1 0 1 1 0 1 0 0 1 0 0 1 0 1 1 1 1 1 1 1 1 0 1 0 1 0 1 0 1 0]\n",
            "[1 0 1 1 0 1 0 0 1 1 0 1 0 1 1 1 1 1 1 1 1 0 1 0 1 0 1 0 1 0]\n",
            "[1 0 1 1 0 1 0 0 1 0 0 1 0 1 1 1 1 1 1 1 1 0 1 0 1 0 1 0 1 0]\n"
          ],
          "name": "stdout"
        }
      ]
    },
    {
      "cell_type": "code",
      "metadata": {
        "colab": {
          "base_uri": "https://localhost:8080/"
        },
        "id": "iH6fPGUQUw_A",
        "outputId": "3b069872-9e24-4bbe-84f8-4f8da6dbdc45"
      },
      "source": [
        "# predict_probaは0,1の「予測確率」\n",
        "\n",
        "print(pipe_knn_5.predict_proba(X_train)[:10])\n",
        "print(pipe_knn_50.predict_proba(X_train)[:10])\n",
        "print(pipe_logistic.predict_proba(X_train)[:10])"
      ],
      "execution_count": null,
      "outputs": [
        {
          "output_type": "stream",
          "text": [
            "[[0.  1. ]\n",
            " [1.  0. ]\n",
            " [0.  1. ]\n",
            " [0.  1. ]\n",
            " [1.  0. ]\n",
            " [0.4 0.6]\n",
            " [1.  0. ]\n",
            " [1.  0. ]\n",
            " [0.2 0.8]\n",
            " [0.6 0.4]]\n",
            "[[0.1  0.9 ]\n",
            " [1.   0.  ]\n",
            " [0.04 0.96]\n",
            " [0.16 0.84]\n",
            " [0.76 0.24]\n",
            " [0.2  0.8 ]\n",
            " [1.   0.  ]\n",
            " [1.   0.  ]\n",
            " [0.32 0.68]\n",
            " [0.26 0.74]]\n",
            "[[5.27350520e-02 9.47264948e-01]\n",
            " [9.99999927e-01 7.30821532e-08]\n",
            " [6.82513609e-02 9.31748639e-01]\n",
            " [2.46642036e-01 7.53357964e-01]\n",
            " [9.90513865e-01 9.48613535e-03]\n",
            " [3.59207075e-01 6.40792925e-01]\n",
            " [9.99999996e-01 4.17722838e-09]\n",
            " [1.00000000e+00 1.44452033e-14]\n",
            " [3.53011543e-03 9.96469885e-01]\n",
            " [9.34423580e-01 6.55764199e-02]]\n"
          ],
          "name": "stdout"
        }
      ]
    }
  ]
}