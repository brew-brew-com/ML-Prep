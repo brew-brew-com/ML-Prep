{
  "nbformat": 4,
  "nbformat_minor": 0,
  "metadata": {
    "kernelspec": {
      "display_name": "Python 3",
      "language": "python",
      "name": "python3"
    },
    "language_info": {
      "codemirror_mode": {
        "name": "ipython",
        "version": 3
      },
      "file_extension": ".py",
      "mimetype": "text/x-python",
      "name": "python",
      "nbconvert_exporter": "python",
      "pygments_lexer": "ipython3",
      "version": "3.6.4"
    },
    "colab": {
      "name": "12.Regression #02.ipynb",
      "provenance": [],
      "include_colab_link": true
    }
  },
  "cells": [
    {
      "cell_type": "markdown",
      "metadata": {
        "id": "view-in-github",
        "colab_type": "text"
      },
      "source": [
        "<a href=\"https://colab.research.google.com/github/brew-brew-com/ML-Prep/blob/main/12_Regression_02.ipynb\" target=\"_parent\"><img src=\"https://colab.research.google.com/assets/colab-badge.svg\" alt=\"Open In Colab\"/></a>"
      ]
    },
    {
      "cell_type": "markdown",
      "metadata": {
        "id": "NL6KHKOeUa12"
      },
      "source": [
        "\n",
        "<h1>勾配ブースティング（Gradient Boosting Reggressor）で学習誤差と汎化誤差を算出し交差検証（Cross Validation）を実施する</h1> \n"
      ]
    },
    {
      "cell_type": "code",
      "metadata": {
        "id": "upf0o2-wUa17"
      },
      "source": [
        "import pandas as pd\n",
        "import numpy as np\n",
        "from sklearn.datasets import load_boston\n",
        "from sklearn.model_selection import train_test_split\n",
        "from sklearn.pipeline import Pipeline\n",
        "from sklearn.preprocessing import StandardScaler\n",
        "from sklearn.ensemble import RandomForestRegressor, GradientBoostingRegressor\n",
        "from sklearn.linear_model import LinearRegression, Ridge\n",
        "from sklearn.metrics import r2_score"
      ],
      "execution_count": null,
      "outputs": []
    },
    {
      "cell_type": "code",
      "metadata": {
        "colab": {
          "base_uri": "https://localhost:8080/"
        },
        "id": "UGJ87soBUa2B",
        "outputId": "9b8f2a4b-1721-496f-9d96-7d4076b67320"
      },
      "source": [
        "boston = load_boston()\n",
        "\n",
        "X = boston.data\n",
        "y = boston.target\n",
        "\n",
        "X_scl = StandardScaler().fit_transform(X) # データセットの標準化\n",
        "model = GradientBoostingRegressor().fit(X_scl, y) # 標準化データセットからGradient Boostでfit\n",
        "y_pred = model.predict(X_scl) # fitしたモデルで説明変数から目的変数を予測\n",
        "\n",
        "# 目的変数と説明変数から予測したデータでR2スコアを算出。\n",
        "# 学習した既知のデータセットを使っているだけなので、これは【学習誤差】を見ていることになる。\n",
        "\n",
        "r2 = r2_score(y, y_pred)\n",
        "print(r2)"
      ],
      "execution_count": null,
      "outputs": [
        {
          "output_type": "stream",
          "text": [
            "0.9761405838418584\n"
          ],
          "name": "stdout"
        }
      ]
    },
    {
      "cell_type": "code",
      "metadata": {
        "colab": {
          "base_uri": "https://localhost:8080/"
        },
        "id": "_u63W7N4Ua2E",
        "outputId": "4cb6cc15-d13b-4d31-e712-708b318417a6"
      },
      "source": [
        "# Pipilineを使って上記と同じことを行う\n",
        "boston = load_boston()\n",
        "\n",
        "X = boston.data\n",
        "y = boston.target\n",
        "\n",
        "pipe = Pipeline([(\"scl\", StandardScaler()), (\"gbr\", GradientBoostingRegressor())])\n",
        "model = pipe.fit(X, y)\n",
        "y_pred = model.predict(X)\n",
        "\n",
        "r2 = r2_score(y, y_pred)\n",
        "print(r2)"
      ],
      "execution_count": null,
      "outputs": [
        {
          "output_type": "stream",
          "text": [
            "0.9761405838418584\n"
          ],
          "name": "stdout"
        }
      ]
    },
    {
      "cell_type": "code",
      "metadata": {
        "colab": {
          "base_uri": "https://localhost:8080/"
        },
        "id": "LlyzF5CGUa2F",
        "outputId": "6a94c8c4-b607-4661-f6e4-305f7a57eabd"
      },
      "source": [
        "boston = load_boston()\n",
        "\n",
        "X = boston.data\n",
        "y = boston.target\n",
        "\n",
        "# データセットを学習データ（80%）とテストデータ（20%）に分割\n",
        "X_train, X_test, y_train, y_test = train_test_split(X, y, test_size=0.20)\n",
        "\n",
        "pipe = Pipeline([(\"scl\", StandardScaler()), (\"gbr\", GradientBoostingRegressor())])\n",
        "model = pipe.fit(X_train, y_train) # 学習用データセットでモデルを作成\n",
        "y_pred = model.predict(X_test) # 学習済みモデルにテスト用の説明変数を読み込ませ、目的変数を予測\n",
        "\n",
        "# 目的変数と説明変数から予測したデータでR2スコアを算出。\n",
        "# 未知のテスト用データセットを使っているので、これは【汎化誤差】を見ていることになる。\n",
        "\n",
        "r2 = r2_score(y_test, y_pred)\n",
        "print(r2)"
      ],
      "execution_count": null,
      "outputs": [
        {
          "output_type": "stream",
          "text": [
            "0.9090635145337592\n"
          ],
          "name": "stdout"
        }
      ]
    },
    {
      "cell_type": "code",
      "metadata": {
        "colab": {
          "base_uri": "https://localhost:8080/"
        },
        "id": "lOqPrCdpUa2F",
        "outputId": "72fa4797-c630-4f72-d412-f27b278b9fe2"
      },
      "source": [
        "# パラメーター違いのCross Validation（交差検証）\n",
        "# ランダム分割するだけの単純な交差検証は【Hold-out】と呼ばれる\n",
        "\n",
        "boston = load_boston()\n",
        "\n",
        "X = boston.data\n",
        "y = boston.target\n",
        "\n",
        "X_train, X_test, y_train, y_test = train_test_split(X, y, test_size=0.20)\n",
        "\n",
        "pipe = Pipeline([(\"scl\", StandardScaler()), (\"gbr\", GradientBoostingRegressor(max_depth=3,random_state=1))])\n",
        "model = pipe.fit(X_train, y_train)\n",
        "\n",
        "y_pred_train = model.predict(X_train)\n",
        "y_pred_test = model.predict(X_test)\n",
        "\n",
        "r2_train = r2_score(y_train, y_pred_train)\n",
        "r2_test = r2_score(y_test, y_pred_test)\n",
        "\n",
        "print('-----------------------------------------------------')\n",
        "print(\"■GBR（max_depth=3,random_state=1）\")\n",
        "print(\"Learinig Errorr（学習誤差）：\" + str(r2_train))\n",
        "print(\"Generalization Errorr（汎化誤差）：\" + str(r2_test))\n",
        "print('-----------------------------------------------------')\n",
        "\n",
        "model = Pipeline([(\"scl\", StandardScaler()), (\"gbr\", GradientBoostingRegressor(max_depth=10,random_state=1))]).fit(X_train, y_train)\n",
        "\n",
        "y_pred_train = model.predict(X_train)\n",
        "y_pred_test = model.predict(X_test)\n",
        "\n",
        "r2_train = r2_score(y_train, y_pred_train)\n",
        "r2_test = r2_score(y_test, y_pred_test)\n",
        "\n",
        "print(\"■GBR（max_depth=10,random_state=1）\")\n",
        "print(\"Learinig Errorr（学習誤差）：\" + str(r2_train))\n",
        "print(\"Generalization Errorr（汎化誤差）：\" + str(r2_test))\n",
        "print('-----------------------------------------------------')\n",
        "\n",
        "# => ■GBR（max_depth=3,random_state=1）\n",
        "# => Learinig Errorr（学習誤差）：0.978281908615733\n",
        "# => Generalization Errorr（汎化誤差）：0.9322914245170626\n",
        "\n",
        "# => ■GBR（max_depth=10,random_state=1）\n",
        "# => Learinig Errorr（学習誤差）：0.9999999896786709\n",
        "# => Generalization Errorr（汎化誤差）：0.8648229443372307\n",
        "\n",
        "# (max_depth=10,random_state=1)は【学習誤差】が1に近いが【汎化誤差】の値が低い。これはOvertfitting（過学習）であると判断できる。"
      ],
      "execution_count": null,
      "outputs": [
        {
          "output_type": "stream",
          "text": [
            "-----------------------------------------------------\n",
            "■GBR（max_depth=3,random_state=1）\n",
            "Learinig Errorr（学習誤差）：0.9781572191469993\n",
            "Generalization Errorr（汎化誤差）：0.93943156981112\n",
            "-----------------------------------------------------\n",
            "■GBR（max_depth=10,random_state=1）\n",
            "Learinig Errorr（学習誤差）：0.9999999759812008\n",
            "Generalization Errorr（汎化誤差）：0.9332346318138681\n",
            "-----------------------------------------------------\n"
          ],
          "name": "stdout"
        }
      ]
    },
    {
      "cell_type": "code",
      "metadata": {
        "colab": {
          "base_uri": "https://localhost:8080/"
        },
        "id": "89Hv073dUa2G",
        "outputId": "4745d4c1-c776-4100-e352-9cb1c2123ae1"
      },
      "source": [
        "# 各種アルゴリズムをまとめてドン\n",
        "\n",
        "boston = load_boston()\n",
        "\n",
        "X = boston.data\n",
        "y = boston.target\n",
        "\n",
        "X_train, X_test, y_train, y_test = train_test_split(X, y, test_size=0.20, random_state=1)\n",
        "\n",
        "pipelines = {\n",
        "    \"Ordinary Least Squares:\\t\" : Pipeline([(\"scl\", StandardScaler()), (\"est\", LinearRegression())]),\n",
        "    \"Ridge:\\t\" : Pipeline([(\"scl\", StandardScaler()), (\"est\", Ridge(random_state=0))]),\n",
        "    \"Random Forest:\\t\" : Pipeline([(\"scl\", StandardScaler()), (\"est\", RandomForestRegressor(random_state=0))]),\n",
        "    \"Gradient Boosting:\\t\" : Pipeline([(\"scl\", StandardScaler()), (\"est\", GradientBoostingRegressor(random_state=0))])\n",
        "}\n",
        "\n",
        "print('-----------------------------------------------------')\n",
        "for pipe_name, pipeline in pipelines.items():\n",
        "    pipeline.fit(X_train, y_train)\n",
        "    print(pipe_name, r2_score(y_test, pipeline.predict(X_test)))\n",
        "print('-----------------------------------------------------')"
      ],
      "execution_count": null,
      "outputs": [
        {
          "output_type": "stream",
          "text": [
            "-----------------------------------------------------\n",
            "Ordinary Least Squares:\t 0.7634174432138472\n",
            "Ridge:\t 0.7634038058032349\n",
            "Random Forest:\t 0.9104769072940039\n",
            "Gradient Boosting:\t 0.9248353805926237\n",
            "-----------------------------------------------------\n"
          ],
          "name": "stdout"
        }
      ]
    },
    {
      "cell_type": "code",
      "metadata": {
        "colab": {
          "base_uri": "https://localhost:8080/"
        },
        "id": "3uNhsGdkUa2G",
        "outputId": "03d5d518-41f2-4920-ae71-703f5927a7b4"
      },
      "source": [
        "# ついでに最小2乗回帰（OLS：Ordinary Least Squares Regression）とリッジ回帰（Ridge Regression）のリニア系でもCross Validation\n",
        "\n",
        "X_train, X_test, y_train, y_test = train_test_split(X, y, test_size=0.20, random_state=1)\n",
        "\n",
        "model_linear = Pipeline([('scl', StandardScaler()), ('est', LinearRegression())]).fit(X_train, y_train)\n",
        "model_ridge = Pipeline([('scl', StandardScaler()), ('est', Ridge(alpha=10.0))]).fit(X_train, y_train)\n",
        "\n",
        "# 性能指標の表示\n",
        "print('-----------------------------------------------------')\n",
        "print('Test Score of OLS:\\t %.6f'% r2_score(y_test, model_linear.predict(X_test)))\n",
        "print('Test Score of Ridge:\\t %.6f'% r2_score(y_test, model_ridge.predict(X_test)))\n",
        "\n",
        "# 回帰係数の総和比較。アンサンブル系ではこれはできない。\n",
        "# リッジ回帰の正則化項の役割把握のため（モデルの性能評価ではありません）\n",
        "print('-----------------------------------------------------')\n",
        "print('Absolute Sum of coefficient of OLS:\\t %.6f'%(np.absolute(model_linear.named_steps['est'].coef_).sum()))\n",
        "print('Absolute Sum of coefficient of Ridge:\\t %.6f'%(np.absolute(model_ridge.named_steps['est'].coef_).sum()))\n",
        "\n",
        "print('-----------------------------------------------------')"
      ],
      "execution_count": null,
      "outputs": [
        {
          "output_type": "stream",
          "text": [
            "-----------------------------------------------------\n",
            "Test Score of OLS:\t 0.763417\n",
            "Test Score of Ridge:\t 0.761650\n",
            "-----------------------------------------------------\n",
            "Absolute Sum of coefficient of OLS:\t 22.063408\n",
            "Absolute Sum of coefficient of Ridge:\t 19.487380\n",
            "-----------------------------------------------------\n"
          ],
          "name": "stdout"
        }
      ]
    }
  ]
}